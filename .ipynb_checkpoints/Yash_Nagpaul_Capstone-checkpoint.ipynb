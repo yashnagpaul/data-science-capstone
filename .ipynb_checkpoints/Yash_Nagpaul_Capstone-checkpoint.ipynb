{
 "cells": [
  {
   "cell_type": "markdown",
   "metadata": {},
   "source": [
    "# Capstone Project: Predicting the need for hospital admittance using machine learning\n",
    "##### The aim of this report is to predict whether or not a person needs to be admitted to the hospital. We have a dataset of over 560,000 unidentified patients. The dataset consists of unique 972 features.\n",
    "\n",
    "#### Author: Yash Nagpaul (Data Science Diploma Candidate, BrainStation)\n",
    "\n",
    "## Table of Contents:\n",
    "### 1. <a href=\"part-1\">Part 1 - Data Cleaning</a>"
   ]
  },
  {
   "cell_type": "code",
   "execution_count": 41,
   "metadata": {},
   "outputs": [],
   "source": [
    "import pandas as pd\n",
    "from sklearn.preprocessing import OneHotEncoder"
   ]
  },
  {
   "cell_type": "code",
   "execution_count": 2,
   "metadata": {},
   "outputs": [],
   "source": [
    "df = pd.read_csv('./data/admit_data.csv')"
   ]
  },
  {
   "cell_type": "code",
   "execution_count": 3,
   "metadata": {},
   "outputs": [],
   "source": [
    "# work with a 10% sample\n",
    "df = df.groupby('disposition').sample(frac=0.1, random_state=1011)"
   ]
  },
  {
   "cell_type": "code",
   "execution_count": 4,
   "metadata": {},
   "outputs": [],
   "source": [
    "# drop duplicate index column\n",
    "df = df.drop(columns=['Unnamed: 0'])"
   ]
  },
  {
   "cell_type": "code",
   "execution_count": 14,
   "metadata": {},
   "outputs": [],
   "source": [
    "# reset index values since we're working with a random 10% sample\n",
    "df.reset_index(drop=True, inplace=True)"
   ]
  },
  {
   "cell_type": "code",
   "execution_count": 6,
   "metadata": {},
   "outputs": [
    {
     "data": {
      "text/plain": [
       "0"
      ]
     },
     "execution_count": 6,
     "metadata": {},
     "output_type": "execute_result"
    }
   ],
   "source": [
    "# Check for duplicate rows\n",
    "df.duplicated().sum()"
   ]
  },
  {
   "cell_type": "code",
   "execution_count": 7,
   "metadata": {},
   "outputs": [],
   "source": [
    "# Only 2 rows are duplicates, we can drop the duplicates with confidence because:\n",
    "# it's an extremely small proprtion of the data, and\n",
    "# we have over 900 features, which makes it very likely that the duplicate row is not intentional\n",
    "df.drop_duplicates(inplace=True)"
   ]
  },
  {
   "cell_type": "code",
   "execution_count": 23,
   "metadata": {
    "scrolled": true
   },
   "outputs": [
    {
     "data": {
      "text/plain": [
       "phencyclidine(pcp)screen,urine,noconf._median    56049\n",
       "phencyclidine(pcp)screen,urine,noconf._max       56049\n",
       "phencyclidine(pcp)screen,urine,noconf._min       56049\n",
       "benzodiazepinesscreen,urine,noconf._last         56049\n",
       "phencyclidine(pcp)screen,urine,noconf._last      56049\n",
       "                                                 ...  \n",
       "othcnsinfx                                           0\n",
       "othematldx                                           0\n",
       "othercvd                                             0\n",
       "othereardx                                           0\n",
       "dep_name                                             0\n",
       "Length: 972, dtype: int64"
      ]
     },
     "execution_count": 23,
     "metadata": {},
     "output_type": "execute_result"
    }
   ],
   "source": [
    "# TODO: deal with nulls\n",
    "\n",
    "# peek\n",
    "df.isna().sum().sort_values(ascending=False)"
   ]
  },
  {
   "cell_type": "markdown",
   "metadata": {},
   "source": [
    "#### NOTES:\n",
    "- 56000 nulls means the entire column is null?\n",
    "    - Drop those columns?"
   ]
  },
  {
   "cell_type": "code",
   "execution_count": 39,
   "metadata": {
    "scrolled": true
   },
   "outputs": [
    {
     "name": "stdout",
     "output_type": "stream",
     "text": [
      "<class 'pandas.core.frame.DataFrame'>\n",
      "RangeIndex: 56049 entries, 0 to 56048\n",
      "Data columns (total 15 columns):\n",
      " #   Column            Non-Null Count  Dtype \n",
      "---  ------            --------------  ----- \n",
      " 0   dep_name          56049 non-null  object\n",
      " 1   gender            56049 non-null  object\n",
      " 2   ethnicity         56049 non-null  object\n",
      " 3   race              56046 non-null  object\n",
      " 4   lang              56049 non-null  object\n",
      " 5   religion          56049 non-null  object\n",
      " 6   maritalstatus     56049 non-null  object\n",
      " 7   employstatus      56049 non-null  object\n",
      " 8   insurance_status  56049 non-null  object\n",
      " 9   disposition       56049 non-null  object\n",
      " 10  arrivalmode       53870 non-null  object\n",
      " 11  arrivalmonth      56049 non-null  object\n",
      " 12  arrivalday        56049 non-null  object\n",
      " 13  arrivalhour_bin   56049 non-null  object\n",
      " 14  previousdispo     56049 non-null  object\n",
      "dtypes: object(15)\n",
      "memory usage: 6.4+ MB\n"
     ]
    }
   ],
   "source": [
    "# How many non-numeric columns do we have?\n",
    "\n",
    "numerics = ['int16', 'int32', 'int64', 'float16', 'float32', 'float64']\n",
    "df.select_dtypes(exclude=numerics).info()"
   ]
  },
  {
   "cell_type": "markdown",
   "metadata": {},
   "source": [
    "#### NOTES:\n",
    "- A total of 15 non-numeric columns that either need to be converted to numeric somehow or dropped"
   ]
  },
  {
   "cell_type": "markdown",
   "metadata": {},
   "source": [
    "### `disposition` column\n",
    "- Convert the column values to binary\n",
    "- `Admit` = 1\n",
    "- `Discharge` = 0"
   ]
  },
  {
   "cell_type": "code",
   "execution_count": 43,
   "metadata": {
    "scrolled": true
   },
   "outputs": [
    {
     "data": {
      "text/plain": [
       "0        1\n",
       "1        1\n",
       "2        1\n",
       "3        1\n",
       "4        1\n",
       "        ..\n",
       "56044    0\n",
       "56045    0\n",
       "56046    0\n",
       "56047    0\n",
       "56048    0\n",
       "Name: disposition, Length: 56049, dtype: int64"
      ]
     },
     "execution_count": 43,
     "metadata": {},
     "output_type": "execute_result"
    }
   ],
   "source": [
    "df.disposition = df.disposition.apply(lambda x: 1 if x == 'Admit' else 0)\n",
    "df.disposition"
   ]
  },
  {
   "cell_type": "markdown",
   "metadata": {},
   "source": [
    "### `religion` column\n",
    "- multiple categories\n",
    "- make dummy variables"
   ]
  },
  {
   "cell_type": "code",
   "execution_count": 40,
   "metadata": {
    "scrolled": true
   },
   "outputs": [
    {
     "data": {
      "text/plain": [
       "Discharge    39385\n",
       "Admit        16664\n",
       "Name: disposition, dtype: int64"
      ]
     },
     "execution_count": 40,
     "metadata": {},
     "output_type": "execute_result"
    }
   ],
   "source": [
    "# df['religiion'].value_counts()\n",
    "\n",
    "# # instantiate a OneHotEncoder object\n",
    "# ohe = OneHotEncoder()\n",
    "\n",
    "# # make a separate dataframe consisting of just 1 column (disposition)\n",
    "# religion_df = pd.DataFrame(df.religion)\n",
    "\n",
    "# # fit the one hot encoder and transform the column\n",
    "# dummified_religion_df = ohe.fit_transform(religion_df)\n",
    "\n"
   ]
  },
  {
   "cell_type": "markdown",
   "metadata": {},
   "source": [
    "#### NOTES:\n",
    "- Doing this process many times will be tedious,\n",
    "- We can write a function that will run for each of the column\n",
    "- And repeat the same process for all of them (TODO: check script 21)"
   ]
  },
  {
   "cell_type": "code",
   "execution_count": null,
   "metadata": {},
   "outputs": [],
   "source": []
  },
  {
   "cell_type": "code",
   "execution_count": null,
   "metadata": {},
   "outputs": [],
   "source": []
  }
 ],
 "metadata": {
  "kernelspec": {
   "display_name": "Python 3 (ipykernel)",
   "language": "python",
   "name": "python3"
  },
  "language_info": {
   "codemirror_mode": {
    "name": "ipython",
    "version": 3
   },
   "file_extension": ".py",
   "mimetype": "text/x-python",
   "name": "python",
   "nbconvert_exporter": "python",
   "pygments_lexer": "ipython3",
   "version": "3.9.13"
  }
 },
 "nbformat": 4,
 "nbformat_minor": 2
}
