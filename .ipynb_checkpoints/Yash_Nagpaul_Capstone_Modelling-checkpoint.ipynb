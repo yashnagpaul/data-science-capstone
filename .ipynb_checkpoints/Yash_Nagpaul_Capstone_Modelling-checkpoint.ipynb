{
 "cells": [
  {
   "cell_type": "markdown",
   "id": "0afd20f6",
   "metadata": {},
   "source": [
    "# Capstone Project: Predicting the need for hospital admittance using machine learning\n",
    "### (Notebook 2 of 2)\n",
    "\n",
    "By: Yash Nagpaul\n",
    "\n",
    "*(Data Science Diploma Candidate, BrainStation)*\n",
    "\n",
    "## Table of Contents:\n",
    "1. <a href=\"#Note:\">Introductory note</a>\n",
    "2. <a href=\"#Part-3-—-Modelling\">Part 3 — Modelling</a>\n",
    "     * <a href=\"#Part-3-—-Modelling\">Logistic Regression</a>\n",
    "     * <a href=\"#Part-3-—-Modelling\">XGBoost</a>\n",
    "\n",
    "---\n",
    "#### Note:\n",
    "This is the second of two Jupyter notebooks used in this project. In this notebook, we will be modelling using the cleaned and scaled datasets created in the first notebook.\n",
    "\n",
    "---\n",
    "### Part 3 — Modelling"
   ]
  },
  {
   "cell_type": "code",
   "execution_count": 1,
   "id": "c6cf78d1",
   "metadata": {},
   "outputs": [],
   "source": [
    "# import helper libraries\n",
    "\n",
    "import numpy as np\n",
    "import pandas as pd\n",
    "import matplotlib.pyplot as plt\n",
    "\n",
    "from sklearn.preprocessing import OneHotEncoder\n",
    "from sklearn.model_selection import train_test_split"
   ]
  },
  {
   "cell_type": "code",
   "execution_count": 5,
   "id": "cbfbaba0",
   "metadata": {},
   "outputs": [
    {
     "data": {
      "text/plain": [
       "array([[-1.55037225e-02, -9.23507447e-01, -4.64896751e-02, ...,\n",
       "        -1.91282758e-02, -1.05535639e-01, -2.11198305e-03],\n",
       "       [-1.55037225e-02,  8.88801104e-01, -4.64896751e-02, ...,\n",
       "        -1.91282758e-02, -1.05535639e-01, -2.11198305e-03],\n",
       "       [-1.55037225e-02,  6.92875855e-01, -4.64896751e-02, ...,\n",
       "        -1.91282758e-02, -1.05535639e-01, -2.11198305e-03],\n",
       "       ...,\n",
       "       [ 1.13714702e+00, -7.27582198e-01, -4.64896751e-02, ...,\n",
       "        -1.91282758e-02, -1.05535639e-01, -2.11198305e-03],\n",
       "       [ 2.28979776e+00, -1.26637663e+00, -4.64896751e-02, ...,\n",
       "        -1.91282758e-02, -1.05535639e-01, -2.11198305e-03],\n",
       "       [-1.16815446e+00,  1.23167029e+00, -4.64896751e-02, ...,\n",
       "        -1.91282758e-02, -1.05535639e-01, -2.11198305e-03]])"
      ]
     },
     "execution_count": 5,
     "metadata": {},
     "output_type": "execute_result"
    }
   ],
   "source": [
    "X_train = np.loadtxt('./X_train.txt', delimiter=',')\n",
    "X_test = np.loadtxt('./X_test.txt', delimiter=',')\n",
    "y_train = np.loadtxt('./y_train.txt', delimiter=',')\n",
    "y_test = np.loadtxt('./y_test.txt', delimiter=',')\n",
    "\n",
    "# Sanity check\n",
    "X_train"
   ]
  },
  {
   "cell_type": "markdown",
   "id": "1f45bee2",
   "metadata": {},
   "source": [
    "## Logistic Regression\n",
    "- Let's begin with one of the simplest classification models: A Logistic Regression.\n",
    "    - Briefly described, a logistic regression fits a logistic function on the input variables and outputs the probability of a binary target variable.\n",
    "- First, we will run a simple Logistic Regression without worrying about any hyperparameter optimization.\n",
    "- That way, we will quickly get a baseline model accuracy to work with and improve upon."
   ]
  },
  {
   "cell_type": "code",
   "execution_count": 8,
   "id": "8e2aa3ad",
   "metadata": {},
   "outputs": [
    {
     "name": "stdout",
     "output_type": "stream",
     "text": [
      "Model accuracy with training data: 86.07 %\n",
      "Model accuracy with test data: 86.04 %\n"
     ]
    }
   ],
   "source": [
    "from sklearn.linear_model import LogisticRegression\n",
    "from sklearn.metrics import accuracy_score\n",
    "from warnings import filterwarnings\n",
    "filterwarnings('ignore')\n",
    "\n",
    "logreg = LogisticRegression(random_state=7)\n",
    "logreg.fit(X_train, y_train)\n",
    "\n",
    "train_acc = logreg.score(X_train, y_train)\n",
    "test_acc = logreg.score(X_test, y_test)\n",
    "\n",
    "print('Model accuracy with training data:', round(train_acc*100,2),\"%\")\n",
    "print('Model accuracy with test data:', round(test_acc*100,2),\"%\")"
   ]
  },
  {
   "cell_type": "markdown",
   "id": "9e79bf62",
   "metadata": {},
   "source": [
    "#### DISCUSSION:\n",
    "- Our first model is about 86% accurate on unseen data!\n",
    "- That's not bad at all since it's significantly better than what we would get if we simply guessed every disposition as '0' (since 70% of all dispositions in our dataset are '0').\n",
    "- It is important to note that we dropped over 300 columns since they were missing more than 10% of the values.\n",
    "- Yet, we are able to achieve an accuracy that is almost at par with the original study.\n",
    "- Let us save the model that we just trained into a pickle file:"
   ]
  },
  {
   "cell_type": "code",
   "execution_count": 10,
   "id": "b4151e5c",
   "metadata": {},
   "outputs": [],
   "source": [
    "import pickle\n",
    "\n",
    "logreg_pkl_file = 'disposition_logreg.pkl'\n",
    "\n",
    "with open(logreg_pkl_file, 'wb') as file:\n",
    "    pickle.dump(logreg, file)"
   ]
  },
  {
   "cell_type": "markdown",
   "id": "9f882096",
   "metadata": {},
   "source": [
    "- Let's try to improve this result by optimizing the regression parameters through a grid search accross multiple hyperparameter combinations"
   ]
  },
  {
   "cell_type": "code",
   "execution_count": 15,
   "id": "523cf271",
   "metadata": {},
   "outputs": [
    {
     "data": {
      "text/plain": [
       "{'C': 0.1, 'penalty': 'l2'}"
      ]
     },
     "execution_count": 15,
     "metadata": {},
     "output_type": "execute_result"
    }
   ],
   "source": [
    "from sklearn.model_selection import GridSearchCV\n",
    "\n",
    "# parameter grid for logistic regression\n",
    "param_grid = {\n",
    "    'C': np.logspace(-3, 7, 11),\n",
    "    'penalty': ['l2']\n",
    "    # The 'lbfgs' is the fastest solver for large datasets.\n",
    "    # However, it doen't work with L1 penalty.\n",
    "    # We will address this issue later.\n",
    "}\n",
    "\n",
    "# GridSearchCV allows us to search over multiple params in a model\n",
    "logreg_cv = GridSearchCV(logreg, param_grid, cv=5)\n",
    "\n",
    "logreg_cv.fit(X_train, y_train)\n",
    "\n",
    "# Best hyperparameters\n",
    "logreg_cv.best_params_"
   ]
  },
  {
   "cell_type": "markdown",
   "id": "763e2d86",
   "metadata": {},
   "source": [
    "As we can see, GridSearch found that the best model results when the 'C' value is set to 0.1, and the L2 penalty is used.\n",
    "\n",
    "Let us go ahead and run a new Logistic Regression with these hyperparameters."
   ]
  },
  {
   "cell_type": "code",
   "execution_count": 16,
   "id": "aa323433",
   "metadata": {},
   "outputs": [
    {
     "name": "stdout",
     "output_type": "stream",
     "text": [
      "Model accuracy with training data: 86.07 %\n",
      "Model accuracy with test data: 86.03 %\n"
     ]
    }
   ],
   "source": [
    "logreg2 = LogisticRegression(random_state=7, C= 0.1, penalty= 'l2')\n",
    "logreg2.fit(X_train, y_train)\n",
    "\n",
    "train_acc = logreg2.score(X_train, y_train)\n",
    "test_acc = logreg2.score(X_test, y_test)\n",
    "\n",
    "print('Model accuracy with training data:', round(train_acc*100,2),\"%\")\n",
    "print('Model accuracy with test data:', round(test_acc*100,2),\"%\")"
   ]
  },
  {
   "cell_type": "markdown",
   "id": "dec9440d",
   "metadata": {},
   "source": [
    "- We can see that even though the test accuracy dropped very slightly.\n",
    "- Now, we want to try various methods to account for any multicoliearity in the dataset.\n",
    "- I am keen on fitting a logreg model that works with L1 penalty. Therefore, I will set the *solver* to be 'saga' and fit another logistic regression model on the data.\n",
    "\n",
    "Note: I tried running a grid search, however, it seems like the saga solver is quite slower compared to lbfgs and the grid search did not finish even hours later."
   ]
  },
  {
   "cell_type": "code",
   "execution_count": 18,
   "id": "c09b9d71",
   "metadata": {},
   "outputs": [
    {
     "name": "stdout",
     "output_type": "stream",
     "text": [
      "Model accuracy with training data: 86.11 %\n",
      "Model accuracy with test data: 85.98 %\n"
     ]
    }
   ],
   "source": [
    "logreg_l1 = LogisticRegression(penalty='l1',C=0.1, random_state=7, solver='saga')\n",
    "logreg_l1.fit(X_train, y_train)\n",
    "\n",
    "train_acc = logreg_l1.score(X_train, y_train)\n",
    "test_acc = logreg_l1.score(X_test, y_test)\n",
    "\n",
    "print('Model accuracy with training data:', round(train_acc*100,2),\"%\")\n",
    "print('Model accuracy with test data:', round(test_acc*100,2),\"%\")"
   ]
  },
  {
   "cell_type": "markdown",
   "id": "696bd5ac",
   "metadata": {},
   "source": [
    "- Notice how the model accuracy on the training set went up slightly, but with unseen data, it fell slightly.\n",
    "- Now, with an imbalanced dataset like the one we have, we shouldn't rely solely on the accuracy as a model evaluation metric.\n",
    "- Let us resample the dataset and see how these models perform.\n",
    "- I will opt for downsampling the majority class since that will also reduce the total number of rows we will be working with\n",
    "- At the same time, we will still be able to make use of over 200,000 data points altogether."
   ]
  },
  {
   "cell_type": "code",
   "execution_count": 19,
   "id": "be9aaa66",
   "metadata": {},
   "outputs": [
    {
     "name": "stdout",
     "output_type": "stream",
     "text": [
      "Number of class 0 examples before: 315208\n",
      "Number of class 0 examples after: 133177\n"
     ]
    }
   ],
   "source": [
    "from sklearn.utils import resample\n",
    "\n",
    "print('Number of class 0 examples before:', X_train[y_train == 0].shape[0])\n",
    "\n",
    "# downsample ONLY the training data\n",
    "X_downsampled, y_downsampled = resample(X_train[y_train == 0],\n",
    "                                        y_train[y_train == 0],\n",
    "                                        replace=True,\n",
    "                                        n_samples=X_train[y_train == 1].shape[0],\n",
    "                                        random_state=7)\n",
    "\n",
    "print('Number of class 0 examples after:', X_downsampled.shape[0])\n",
    "\n",
    "# Combine downsampled data with original data\n",
    "X_train_balanced = np.vstack((X_train[y_train == 1], X_downsampled))\n",
    "y_train_balanced = np.hstack((y_train[y_train == 1], y_downsampled))"
   ]
  },
  {
   "cell_type": "code",
   "execution_count": 20,
   "id": "14249633",
   "metadata": {},
   "outputs": [
    {
     "name": "stdout",
     "output_type": "stream",
     "text": [
      "train acc: 0.8319567192533245\n",
      "test acc: 0.8421724042570274\n"
     ]
    }
   ],
   "source": [
    "######################################\n",
    "### MODEL FITTING AFTER RESAMPLING ###\n",
    "######################################\n",
    "from sklearn.metrics import classification_report\n",
    "\n",
    "logreg_balanced = LogisticRegression(solver='lbfgs', random_state=7, C=0.1, penalty='l2')\n",
    "logreg_balanced.fit(X_train_balanced, y_train_balanced)\n",
    "\n",
    "# evaluate on the original test set - NO DOWNSAMPLING\n",
    "y_pred_balanced = logreg_balanced.predict(X_test)\n",
    "\n",
    "print('train acc:', logreg_balanced.score(X_train_balanced, y_train_balanced))\n",
    "print('test acc:', logreg_balanced.score(X_test, y_test))"
   ]
  },
  {
   "cell_type": "markdown",
   "id": "f1e498bc",
   "metadata": {},
   "source": [
    "#### OBSERVATIONS\n",
    "- The accuracy fell slightly again this time, using both, the test data and train data.\n",
    "- Now, let's see a detailed report to see how the precision and recall values are\n",
    "- Precision is...\n",
    "- Recall is...\n",
    "TODO:\n",
    "- Now let us compare our 2 best logistic regression models:\n",
    "    - We'll look at **the model which was produced with the optimized the hyperparameters** using a grid search.\n",
    "    - We'll **compare it to the model that was produced after balancing** the dataset."
   ]
  },
  {
   "cell_type": "code",
   "execution_count": 27,
   "id": "ef521ceb",
   "metadata": {},
   "outputs": [
    {
     "name": "stdout",
     "output_type": "stream",
     "text": [
      "OPTIMIZED HYPERPARAMETERS\n",
      "              precision    recall  f1-score   support\n",
      "\n",
      "         0.0       0.87      0.94      0.90     78638\n",
      "         1.0       0.83      0.67      0.74     33459\n",
      "\n",
      "    accuracy                           0.86    112097\n",
      "   macro avg       0.85      0.81      0.82    112097\n",
      "weighted avg       0.86      0.86      0.86    112097\n",
      "\n",
      "-----------------------------------------------------\n",
      "\n",
      "BALANCED DATASET WITH OPTIMIZED HYPERPARAMETERS\n",
      "              precision    recall  f1-score   support\n",
      "\n",
      "         0.0       0.92      0.85      0.88     78638\n",
      "         1.0       0.70      0.82      0.76     33459\n",
      "\n",
      "    accuracy                           0.84    112097\n",
      "   macro avg       0.81      0.83      0.82    112097\n",
      "weighted avg       0.85      0.84      0.85    112097\n",
      "\n"
     ]
    }
   ],
   "source": [
    "# classification report\n",
    "print('OPTIMIZED HYPERPARAMETERS')\n",
    "report = classification_report(y_test, logreg2.predict(X_test))\n",
    "print(report)\n",
    "print('-----------------------------------------------------\\n')\n",
    "print('BALANCED DATASET WITH OPTIMIZED HYPERPARAMETERS')\n",
    "bal_report = classification_report(y_test, logreg_balanced.predict(X_test))\n",
    "print(bal_report)"
   ]
  },
  {
   "cell_type": "markdown",
   "id": "592fa0e2",
   "metadata": {},
   "source": [
    "DISCUSSION:\n",
    "- With a balanced distribution in our target column the model is less accurate.\n",
    "- However, at this point we must remind ourselves that this is medical data and we are trying to predict whether or not a person needs to be admitted to the hospital.\n",
    "- Therefore, we can argue that the model that was trained on a balanced dataset is better, given that:\n",
    "    - it has a lower recall value along with a higher precision when predicting 0 (discharge), and\n",
    "    - a higher recall value when predicting 1 (admit).\n",
    "---\n",
    "- Now, I am curious to see which are the top 10 most predictive variables that result in admitting the disposition (i.e., where disposition = 1)"
   ]
  },
  {
   "cell_type": "code",
   "execution_count": 28,
   "id": "d3e66905",
   "metadata": {},
   "outputs": [
    {
     "data": {
      "image/png": "[encoded data removed]",
      "text/plain": [
       "<Figure size 1500x500 with 1 Axes>"
      ]
     },
     "metadata": {},
     "output_type": "display_data"
    }
   ],
   "source": [
    "features_df = pd.read_csv('./pre_split_clean_df.csv')\n",
    "features_df = features_df.drop('disposition', axis=1)\n",
    "features_df = features_df.drop(columns=['Unnamed: 0'])\n",
    "\n",
    "feature_counts = pd.DataFrame(\n",
    "    {\n",
    "        \"coefficients\": logreg_balanced.coef_[0]\n",
    "    },\n",
    "    features_df.columns\n",
    ").sort_values('coefficients', ascending=False)\n",
    "\n",
    "feature_counts.head(10).plot(kind='bar', figsize=(15,5), legend=False)\n",
    "plt.title(\"Top 10 features predictive of 'Admit'\")\n",
    "plt.ylabel('Coefficients')\n",
    "plt.xticks(rotation=45)\n",
    "plt.show()"
   ]
  },
  {
   "cell_type": "markdown",
   "id": "644ac1e4",
   "metadata": {},
   "source": [
    "#### OBSERVATIONS:\n",
    "- The above chart shows us the top 10 predictors or whether or not an ER visit will result in admittance to the hospital.\n",
    "- It's not surprising that age is the most significant predictor. The older a patient, the more likely they are to get admitted.\n",
    "\n",
    "---\n",
    "### A note before running more models:\n",
    "- Inspite of removing over 300 columns, our dataset is taking quite long to fit the models.\n",
    "- One option to try here is principal component analysis.\n",
    "\n",
    "So, we will reduce the dimensionality of the dataset by using Principal Component Analysis (PCA)\n",
    "- what pca does #TODO:"
   ]
  },
  {
   "cell_type": "code",
   "execution_count": 30,
   "id": "86c5b63e",
   "metadata": {},
   "outputs": [],
   "source": [
    "from sklearn.decomposition import PCA\n",
    "\n",
    "# let's say we want to preserve 99\n",
    "pca = PCA()\n",
    "pca.fit(X_train_balanced)\n",
    "\n",
    "X_train_PCA = pca.transform(X_train_balanced)\n",
    "X_test_PCA = pca.transform(X_test)"
   ]
  },
  {
   "cell_type": "code",
   "execution_count": 31,
   "id": "0fa5baae",
   "metadata": {
    "scrolled": true
   },
   "outputs": [
    {
     "data": {
      "text/plain": [
       "array([0.02549754, 0.0413457 , 0.05411377, 0.06176998, 0.06806511,\n",
       "       0.07382279, 0.07937578, 0.08417596, 0.0885247 , 0.09273726,\n",
       "       0.09693437, 0.10050188, 0.10392547, 0.10720857, 0.11041173,\n",
       "       0.11353763, 0.11655405, 0.11954512, 0.12243577, 0.12526674,\n",
       "       0.1280807 , 0.1308336 , 0.13355197, 0.13618913, 0.13882024,\n",
       "       0.14141418, 0.14395081, 0.14647274, 0.14895335, 0.15140723,\n",
       "       0.15382508, 0.15620786, 0.15857905, 0.16092851, 0.16327011,\n",
       "       0.16558619, 0.16789811, 0.17020794, 0.1725134 , 0.17481175,\n",
       "       0.17707992, 0.17934563, 0.18160223, 0.18384535, 0.1860787 ,\n",
       "       0.18830588, 0.19051035, 0.19270366, 0.19488838, 0.1970681 ,\n",
       "       0.19923206, 0.20138314, 0.20352681, 0.20566542, 0.20779919,\n",
       "       0.2099238 , 0.21204435, 0.21415606, 0.21626307, 0.21836079,\n",
       "       0.22045264, 0.2225395 , 0.22462124, 0.22669389, 0.22876418,\n",
       "       0.23082371, 0.23287951, 0.23493027, 0.23697133, 0.23900513,\n",
       "       0.24103358, 0.24305267, 0.24506175, 0.24706742, 0.24906872,\n",
       "       0.25106897, 0.25306106, 0.2550479 , 0.25703377, 0.25901287,\n",
       "       0.2609856 , 0.26295136, 0.26491384, 0.2668736 , 0.26882792,\n",
       "       0.27077948, 0.27272671, 0.27466484, 0.27659883, 0.27853185,\n",
       "       0.28045675, 0.28237908, 0.28430009, 0.28621826, 0.28812872,\n",
       "       0.29003807, 0.29194504, 0.29384248, 0.29573845, 0.29762858,\n",
       "       0.29951224, 0.30139379, 0.30327285, 0.30514533, 0.3070147 ,\n",
       "       0.30888226, 0.31074706, 0.312609  , 0.314469  , 0.31632367,\n",
       "       0.31817279, 0.32001701, 0.32185864, 0.32370012, 0.32553835,\n",
       "       0.32737163, 0.32920299, 0.33103155, 0.33285807, 0.33468157,\n",
       "       0.33650384, 0.33831871, 0.34013163, 0.34194138, 0.34374645,\n",
       "       0.34554866, 0.3473467 , 0.34914044, 0.35093215, 0.35272243,\n",
       "       0.35450696, 0.35628968, 0.35807146, 0.35984642, 0.36161822,\n",
       "       0.36338206, 0.36514191, 0.36689936, 0.36865413, 0.3704064 ,\n",
       "       0.37215532, 0.37390156, 0.37564607, 0.3773864 , 0.3791226 ,\n",
       "       0.38085689, 0.38258924, 0.38431863, 0.38604545, 0.38776915,\n",
       "       0.3894888 , 0.39120736, 0.39292391, 0.39463725, 0.39635017,\n",
       "       0.39805717, 0.39976116, 0.40146324, 0.40316166, 0.4048568 ,\n",
       "       0.40655008, 0.40823929, 0.40992567, 0.41160758, 0.41328889,\n",
       "       0.41496879, 0.4166448 , 0.41831901, 0.41999067, 0.42165934,\n",
       "       0.42332672, 0.42499295, 0.42665268, 0.4283096 , 0.42996198,\n",
       "       0.43161158, 0.43325915, 0.43490525, 0.43654803, 0.43818843,\n",
       "       0.43982509, 0.44146004, 0.4430943 , 0.44472577, 0.44635594,\n",
       "       0.44798358, 0.44960952, 0.45123097, 0.45285027, 0.4544654 ,\n",
       "       0.4560787 , 0.45769099, 0.45930006, 0.46090559, 0.4625096 ,\n",
       "       0.46411163, 0.46571138, 0.46730946, 0.46890477, 0.47049837,\n",
       "       0.47209019, 0.47367984, 0.47526668, 0.4768517 , 0.47843507,\n",
       "       0.48001547, 0.4815929 , 0.48316899, 0.48474085, 0.48631213,\n",
       "       0.48787854, 0.48944411, 0.49100835, 0.49256924, 0.49412855,\n",
       "       0.49568611, 0.49724146, 0.49879402, 0.50034596, 0.50189613,\n",
       "       0.50344363, 0.50498993, 0.50653111, 0.50807123, 0.50960928,\n",
       "       0.51114476, 0.51267833, 0.51421074, 0.51574214, 0.51727077,\n",
       "       0.51879612, 0.52032029, 0.5218423 , 0.52336228, 0.52488107,\n",
       "       0.52639839, 0.5279137 , 0.52942694, 0.5309386 , 0.53244658,\n",
       "       0.53395394, 0.53545993, 0.53696391, 0.5384671 , 0.5399666 ,\n",
       "       0.54146552, 0.54296065, 0.5444542 , 0.54594596, 0.54743673,\n",
       "       0.54892507, 0.55041234, 0.55189877, 0.55338288, 0.55486605,\n",
       "       0.55634837, 0.55782696, 0.55930504, 0.56078013, 0.56225303,\n",
       "       0.56372513, 0.5651955 , 0.5666624 , 0.56812878, 0.56959417,\n",
       "       0.571057  , 0.572518  , 0.57397819, 0.57543788, 0.57689516,\n",
       "       0.57835132, 0.57980615, 0.58126021, 0.58271061, 0.5841594 ,\n",
       "       0.58560607, 0.58705153, 0.58849562, 0.58993841, 0.59137957,\n",
       "       0.59281841, 0.59425689, 0.5956927 , 0.59712693, 0.59856038,\n",
       "       0.59999258, 0.60142268, 0.60285017, 0.60427736, 0.60570113,\n",
       "       0.60712193, 0.60854039, 0.60995797, 0.61137373, 0.61278847,\n",
       "       0.61420197, 0.61561422, 0.61702347, 0.6184302 , 0.61983504,\n",
       "       0.62123761, 0.6226396 , 0.62403876, 0.62543635, 0.62683335,\n",
       "       0.62822864, 0.62962065, 0.63101192, 0.63240188, 0.63379061,\n",
       "       0.63517515, 0.63655921, 0.63794208, 0.63932399, 0.64070502,\n",
       "       0.64208548, 0.64346337, 0.6448392 , 0.64621315, 0.64758488,\n",
       "       0.64895555, 0.65032495, 0.65169233, 0.65305706, 0.6544212 ,\n",
       "       0.65578255, 0.65714186, 0.65849982, 0.65985643, 0.66121174,\n",
       "       0.66256613, 0.66391941, 0.66526907, 0.66661833, 0.66796336,\n",
       "       0.66930641, 0.67064817, 0.67198817, 0.67332637, 0.67466344,\n",
       "       0.67599959, 0.67733483, 0.67866828, 0.68000039, 0.68132991,\n",
       "       0.68265726, 0.68398365, 0.68530867, 0.68663133, 0.68795151,\n",
       "       0.68927045, 0.69058831, 0.69190502, 0.69321868, 0.69453125,\n",
       "       0.69584175, 0.69715098, 0.69845829, 0.69976505, 0.70107044,\n",
       "       0.70237476, 0.70367666, 0.70497729, 0.70627588, 0.70757283,\n",
       "       0.70886702, 0.71016052, 0.71145271, 0.71274327, 0.71403194,\n",
       "       0.71531927, 0.7166055 , 0.71789029, 0.7191736 , 0.72045269,\n",
       "       0.72173156, 0.72300828, 0.72428405, 0.72555682, 0.72682787,\n",
       "       0.72809828, 0.72936755, 0.73063474, 0.73189842, 0.73316011,\n",
       "       0.73442127, 0.73568055, 0.73693717, 0.73819287, 0.73944682,\n",
       "       0.74069928, 0.74195064, 0.74319891, 0.74444587, 0.74569192,\n",
       "       0.74693589, 0.74817833, 0.74941999, 0.7506599 , 0.75189757,\n",
       "       0.7531327 , 0.7543648 , 0.75559633, 0.7568269 , 0.7580538 ,\n",
       "       0.7592805 , 0.76050591, 0.76172946, 0.76295138, 0.76417267,\n",
       "       0.76539244, 0.76661041, 0.76782804, 0.76904405, 0.77025829,\n",
       "       0.77146966, 0.77267961, 0.77388848, 0.77509684, 0.77630341,\n",
       "       0.7775076 , 0.7787112 , 0.77991376, 0.78111315, 0.78231171,\n",
       "       0.78350951, 0.78470578, 0.78590121, 0.78709401, 0.78828573,\n",
       "       0.78947563, 0.79066268, 0.79184817, 0.79303288, 0.79421568,\n",
       "       0.79539702, 0.79657719, 0.7977566 , 0.79893577, 0.80011301,\n",
       "       0.80128889, 0.80246361, 0.80363728, 0.80480999, 0.80598176,\n",
       "       0.80715148, 0.8083197 , 0.80948756, 0.81065356, 0.81181779,\n",
       "       0.81297912, 0.81413954, 0.81529895, 0.81645667, 0.81761317,\n",
       "       0.81876878, 0.81992317, 0.82107597, 0.82222835, 0.82337968,\n",
       "       0.82452891, 0.82567616, 0.82682206, 0.82796638, 0.8291096 ,\n",
       "       0.83025243, 0.83139265, 0.8325324 , 0.83366989, 0.83480544,\n",
       "       0.83593865, 0.83707164, 0.83820235, 0.83933205, 0.84045982,\n",
       "       0.84158659, 0.84271193, 0.84383672, 0.84496023, 0.84608272,\n",
       "       0.84720456, 0.84832531, 0.8494457 , 0.85056463, 0.85168176,\n",
       "       0.85279689, 0.85391139, 0.85502472, 0.85613582, 0.85724649,\n",
       "       0.85835629, 0.85946466, 0.8605714 , 0.86167791, 0.86278362,\n",
       "       0.86388712, 0.86498882, 0.86608837, 0.86718603, 0.86828251,\n",
       "       0.86937823, 0.87047267, 0.87156611, 0.87265723, 0.87374808,\n",
       "       0.87483766, 0.87592557, 0.87701277, 0.87809789, 0.87918138,\n",
       "       0.88026444, 0.88134679, 0.88242845, 0.88350704, 0.88458473,\n",
       "       0.88566082, 0.88673531, 0.88780745, 0.88887818, 0.88994805,\n",
       "       0.89101655, 0.89208175, 0.89314621, 0.89420761, 0.8952682 ,\n",
       "       0.89632629, 0.89738359, 0.89843653, 0.89948788, 0.90053722,\n",
       "       0.90158557, 0.90263272, 0.9036775 , 0.90472062, 0.90576138,\n",
       "       0.90680055, 0.90783897, 0.90887485, 0.90990942, 0.91094195,\n",
       "       0.91197278, 0.91300167, 0.91402944, 0.91505709, 0.91608261,\n",
       "       0.91710621, 0.91812885, 0.91914996, 0.92017042, 0.92119039,\n",
       "       0.92220821, 0.92322458, 0.92424086, 0.92525289, 0.9262628 ,\n",
       "       0.92727082, 0.92827772, 0.92928252, 0.93028561, 0.9312841 ,\n",
       "       0.93228181, 0.93327904, 0.93427399, 0.93526674, 0.93625676,\n",
       "       0.93724461, 0.93822987, 0.93921451, 0.94019765, 0.94117773,\n",
       "       0.94215563, 0.94313229, 0.94410683, 0.94507629, 0.94604341,\n",
       "       0.94700717, 0.94797001, 0.94893045, 0.94988837, 0.95084346,\n",
       "       0.95179523, 0.95274566, 0.95369282, 0.95463547, 0.95557341,\n",
       "       0.95650911, 0.95744373, 0.95837556, 0.95930579, 0.96023416,\n",
       "       0.96115939, 0.96208075, 0.96299308, 0.96390222, 0.9648101 ,\n",
       "       0.96571447, 0.96661551, 0.96751487, 0.96841059, 0.96930342,\n",
       "       0.97019372, 0.97107843, 0.97196165, 0.97283893, 0.9737112 ,\n",
       "       0.97457367, 0.97542783, 0.97627372, 0.97711674, 0.97794164,\n",
       "       0.97876203, 0.97957429, 0.98038168, 0.98117904, 0.98197231,\n",
       "       0.98274916, 0.98352247, 0.98428824, 0.98504737, 0.98579688,\n",
       "       0.98653741, 0.98727114, 0.98797473, 0.9886756 , 0.98937068,\n",
       "       0.99002507, 0.990668  , 0.99129565, 0.99191309, 0.99251036,\n",
       "       0.99310281, 0.9936947 , 0.99427524, 0.9948488 , 0.9954162 ,\n",
       "       0.99588748, 0.99634542, 0.99675273, 0.99715105, 0.99754206,\n",
       "       0.99789941, 0.99823574, 0.99855899, 0.99887013, 0.99916871,\n",
       "       0.99944043, 0.99965619, 0.99983561, 0.99999976, 0.99999993,\n",
       "       0.99999996, 0.99999998, 0.99999999, 1.        , 1.        ,\n",
       "       1.        , 1.        , 1.        , 1.        , 1.        ,\n",
       "       1.        , 1.        , 1.        , 1.        , 1.        ,\n",
       "       1.        , 1.        , 1.        , 1.        , 1.        ,\n",
       "       1.        , 1.        , 1.        , 1.        , 1.        ,\n",
       "       1.        , 1.        , 1.        , 1.        , 1.        ,\n",
       "       1.        , 1.        ])"
      ]
     },
     "execution_count": 31,
     "metadata": {},
     "output_type": "execute_result"
    }
   ],
   "source": [
    "expl_var = pca.explained_variance_ratio_\n",
    "\n",
    "cumulative_sum = np.cumsum(expl_var)\n",
    "\n",
    "cumulative_sum"
   ]
  },
  {
   "cell_type": "code",
   "execution_count": 32,
   "id": "8e40b0cf",
   "metadata": {},
   "outputs": [
    {
     "data": {
      "image/png": "[encoded data removed]",
      "text/plain": [
       "<Figure size 1500x700 with 1 Axes>"
      ]
     },
     "metadata": {},
     "output_type": "display_data"
    }
   ],
   "source": [
    "# Plot the cumulative sum graph\n",
    "\n",
    "plt.figure(figsize=(15,7))\n",
    "plt.plot(cumulative_sum)\n",
    "plt.axhline(0.95, c='r')\n",
    "plt.axvline(581, c='r', linestyle='--')\n",
    "plt.xlabel('Number of PCs')\n",
    "plt.ylabel('Cumulative Sum of Explained Variance')\n",
    "plt.show()"
   ]
  },
  {
   "cell_type": "code",
   "execution_count": null,
   "id": "8e3e0e23",
   "metadata": {},
   "outputs": [],
   "source": [
    "# # no elbow\n",
    "\n",
    "# plt.figure()\n",
    "# plt.plot(expl_var,marker='.')\n",
    "# plt.xlabel('Number of PCs')\n",
    "# plt.ylabel('Proportion of Variance Explained')\n",
    "# plt.xticks()\n",
    "# plt.show()"
   ]
  },
  {
   "cell_type": "markdown",
   "id": "c4dc6029",
   "metadata": {},
   "source": [
    "Some important points to note:\n",
    "- If we want to be able to explain 95% of the variance in the original data, we are going to need about 581 Principal Components\n",
    "- We get to reduce the number of variables by about 20% but in return give up some explainability.\n",
    "- Given that the number of variables would still remain very large, I would argue that we can continue with further modelling without using principal components.\n",
    "- Especially since we are working with medical data, and we would like to keep the models as interpretable as possible.\n",
    "\n",
    "---\n",
    "## XGBoost\n",
    "- Now, before diving further into evaluating the models that we have tried so far,\n",
    "- Let us try fitting a different model called XGBoost which is known to perform well for classification problems\n",
    "- TODO: what XGBoost does"
   ]
  },
  {
   "cell_type": "code",
   "execution_count": 35,
   "id": "1c1ea09c",
   "metadata": {},
   "outputs": [],
   "source": [
    "from xgboost import XGBClassifier"
   ]
  },
  {
   "cell_type": "code",
   "execution_count": 38,
   "id": "886ec3b4",
   "metadata": {},
   "outputs": [],
   "source": [
    "# Instantiate the model\n",
    "xgbc = XGBClassifier()\n",
    "\n",
    "# Train the model\n",
    "xgbc.fit(X_train_balanced, y_train_balanced)\n",
    "\n",
    "# Make predictions on the test set\n",
    "y_pred = xgbc.predict(X_test)"
   ]
  },
  {
   "cell_type": "code",
   "execution_count": 39,
   "id": "4326c2c2",
   "metadata": {},
   "outputs": [
    {
     "name": "stdout",
     "output_type": "stream",
     "text": [
      "              precision    recall  f1-score   support\n",
      "\n",
      "         0.0       0.92      0.85      0.89     78638\n",
      "         1.0       0.71      0.83      0.76     33459\n",
      "\n",
      "    accuracy                           0.85    112097\n",
      "   macro avg       0.81      0.84      0.82    112097\n",
      "weighted avg       0.86      0.85      0.85    112097\n",
      "\n"
     ]
    }
   ],
   "source": [
    "print(classification_report(y_test, y_pred))"
   ]
  },
  {
   "cell_type": "markdown",
   "id": "cf5d6ce0",
   "metadata": {},
   "source": [
    "Notice that the XGBoost model perform a little better in terms of accuracy.\n",
    "- What's arguably more important in this case is that we see a slightly higher recall when predicting 1 (Admit) compared to our best Logistic Regression model.\n",
    "- Next, let us do some hyperparameter tuning to see if we can further improve this model.\n",
    "- Similar to how we ran a grid search for the Logistic Regression model, this time we will run a Random search within our specified parameters\n",
    "- The main reason for a random search is that XGBoost is a more complex and time consuming model and a thorough search could take many hours or days"
   ]
  },
  {
   "cell_type": "code",
   "execution_count": 61,
   "id": "6484dfcb",
   "metadata": {},
   "outputs": [],
   "source": [
    "from sklearn.model_selection import RandomizedSearchCV\n",
    "\n",
    "# Define the parameters for a random search\n",
    "xbgc_params = {\n",
    "    'learning_rate': np.arange(0.01,0.2,0.01),\n",
    "    'max_depth': np.arange(3,8),\n",
    "    'n_estimators': np.arange(50,201,50)\n",
    "}\n",
    "\n",
    "# Instantiate a Radom Search Object\n",
    "random_search = RandomizedSearchCV(estimator = xgbc, \n",
    "                                   param_distributions=xbgc_params,\n",
    "                                   cv=3,\n",
    "                                   random_state=7)"
   ]
  },
  {
   "cell_type": "code",
   "execution_count": 62,
   "id": "8ecbca53",
   "metadata": {},
   "outputs": [
    {
     "name": "stdout",
     "output_type": "stream",
     "text": [
      "Best Hyperparemeters: {'n_estimators': 200, 'max_depth': 5, 'learning_rate': 0.19}\n",
      "Best Accuracy: 0.8396907883317858\n"
     ]
    }
   ],
   "source": [
    "# Perform a random search on the training data\n",
    "random_search.fit(X_train_balanced, y_train_balanced)\n",
    "\n",
    "# Evaluate and select the best model\n",
    "best_model = random_search.best_estimator_\n",
    "print('Best Hyperparemeters:', random_search.best_params_)\n",
    "print('Best Accuracy:', random_search.best_score_)"
   ]
  },
  {
   "cell_type": "code",
   "execution_count": 66,
   "id": "7f314373",
   "metadata": {},
   "outputs": [
    {
     "data": {
      "text/plain": [
       "['xgboost_model.pkl']"
      ]
     },
     "execution_count": 66,
     "metadata": {},
     "output_type": "execute_result"
    }
   ],
   "source": [
    "# Save the model\n",
    "import joblib\n",
    "\n",
    "joblib.dump(best_model, 'xgboost_model.pkl')"
   ]
  },
  {
   "cell_type": "code",
   "execution_count": 65,
   "id": "1df8b84c",
   "metadata": {},
   "outputs": [
    {
     "name": "stdout",
     "output_type": "stream",
     "text": [
      "              precision    recall  f1-score   support\n",
      "\n",
      "         0.0       0.92      0.86      0.89     78638\n",
      "         1.0       0.71      0.83      0.76     33459\n",
      "\n",
      "    accuracy                           0.85    112097\n",
      "   macro avg       0.82      0.84      0.83    112097\n",
      "weighted avg       0.86      0.85      0.85    112097\n",
      "\n"
     ]
    }
   ],
   "source": [
    "# Train the finalized model\n",
    "best_model.fit(X_train_balanced, y_train_balanced)\n",
    "\n",
    "# Predict using the finalized model\n",
    "y_pred_optimized = best_model.predict(X_test)\n",
    "print(classification_report(y_test, y_pred_optimized))"
   ]
  },
  {
   "cell_type": "markdown",
   "id": "da0f36ff",
   "metadata": {},
   "source": [
    "- Let's analyze the results:\n",
    "    - Compared to our first XGBoost model, the best model found through a random search is actually slightly worse.\n",
    "    - That is because the model found by random search has a slightly higher recall when predicting 0.\n",
    "    - This means that the model predicts more false negatives compared to our first XGBoost model.\n",
    "    - Thus, we can conclude that our first XGBoost model gives us the best overall performance that we have seen so far.\n",
    "    - Let's visualize its performance in a confusion matrix."
   ]
  },
  {
   "cell_type": "code",
   "execution_count": 59,
   "id": "302a9c7b",
   "metadata": {},
   "outputs": [
    {
     "data": {
      "image/png": "[encoded data removed]",
      "text/plain": [
       "<Figure size 640x480 with 2 Axes>"
      ]
     },
     "metadata": {},
     "output_type": "display_data"
    }
   ],
   "source": [
    "import seaborn as sns\n",
    "from sklearn.metrics import confusion_matrix\n",
    "\n",
    "# generate a matrix\n",
    "cf_matrix = confusion_matrix(y_test, y_pred)\n",
    "\n",
    "# visualize it\n",
    "plt.figure()\n",
    "sns.heatmap(cf_matrix/np.sum(cf_matrix), annot=True, cmap='Blues', fmt='.2%')\n",
    "plt.xlabel('Predicted')\n",
    "plt.ylabel('Actual')\n",
    "plt.title('Confusion Matrix for the XGBoost Model')\n",
    "plt.show()"
   ]
  },
  {
   "cell_type": "markdown",
   "id": "e9bf9685",
   "metadata": {},
   "source": [
    "- Again, with medical problems, false alarms are more acceptable than missed diagnosis of an issue.\n",
    "- Now, before we finally conclude that these results are the best that we can get, let us see whether we can tune a few properties besides the hyperparameters to make the model even better.\n",
    "- The XGBoost classifier predicts '1' based on the probability of the outcome being 1.\n",
    "    - The default threshold is 0.5 or a 50% probability.\n",
    "    - What if we make this lower?\n",
    "    - i.e., if the probability of 1 is 0.4, then classify it as 1\n",
    "    - Let's try:"
   ]
  },
  {
   "cell_type": "code",
   "execution_count": 55,
   "id": "5030f34f",
   "metadata": {},
   "outputs": [
    {
     "name": "stdout",
     "output_type": "stream",
     "text": [
      "Precision score: 0.6435634899798722\n",
      "Recall score: 0.8791655458919873\n"
     ]
    }
   ],
   "source": [
    "from sklearn.metrics import precision_score, recall_score\n",
    "\n",
    "# Make probabilistic predictions (scores)\n",
    "y_proba = xgbc.predict_proba(X_test)[:,1]\n",
    "\n",
    "# Calculate the precision and recall using a lower cut-off\n",
    "y_threshold = np.where(y_proba > 0.4, 1, 0)\n",
    "print(f'Precision score: {precision_score(y_test, y_threshold)}')\n",
    "print(f'Recall score: {recall_score(y_test, y_threshold)}')"
   ]
  },
  {
   "cell_type": "markdown",
   "id": "67456ffe",
   "metadata": {},
   "source": [
    "- We can see that if we set the threshold of predicting 1 to a lower probability, our recall rate goes up at the cost of our precision score.\n",
    "- Higher recall when predicting '1' means a low false negative rate, which is good for this problem.\n",
    "---\n",
    "### Concluding remarks:\n",
    "- We fitted Logistic Regression and XGBoost models on our cleaned dataset.\n",
    "- Hyperparameter optimization was performed on both the models and were able to get near identical results.\n",
    "- For the given dataset, the XGBoost model performs slightly better than Logistic Regression.\n",
    "- Although some of our models had an accuracy of 86%, we conclude that our best model was the first XGBoost model.\n",
    "- Even though that model had an accuracy of approximately 85% on unseen data, it had the highest recall when predicting 1 and the highest precision when predicting '0'"
   ]
  }
 ],
 "metadata": {
  "kernelspec": {
   "display_name": "Python 3 (ipykernel)",
   "language": "python",
   "name": "python3"
  },
  "language_info": {
   "codemirror_mode": {
    "name": "ipython",
    "version": 3
   },
   "file_extension": ".py",
   "mimetype": "text/x-python",
   "name": "python",
   "nbconvert_exporter": "python",
   "pygments_lexer": "ipython3",
   "version": "3.9.13"
  }
 },
 "nbformat": 4,
 "nbformat_minor": 5
}
