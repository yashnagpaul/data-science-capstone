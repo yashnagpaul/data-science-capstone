{
 "cells": [
  {
   "cell_type": "markdown",
   "id": "f7014cfc",
   "metadata": {},
   "source": [
    "# Capstone Project: Predicting the need for hospital admittance using machine learning\n",
    "## (Notebook 2 of 2)\n",
    "\n",
    "By: Yash Nagpaul\n",
    "\n",
    "*(Data Science Diploma Candidate, BrainStation)*\n",
    "\n",
    "## Table of Contents:\n",
    "1. <a href=\"#Note:\">Introductory note</a>\n",
    "2. <a href=\"#Part-3-—-Modelling\">Part 3 — Modelling</a>\n",
    "\n",
    "---\n",
    "### Note:\n",
    "This is the second of two Jupyter notebooks used in this project. In this notebook, we will be modelling using the cleaned datasets created in the first notebook.\n",
    "\n",
    "---\n",
    "### Part 3 — Modelling"
   ]
  },
  {
   "cell_type": "code",
   "execution_count": 1,
   "id": "1fedc285",
   "metadata": {},
   "outputs": [],
   "source": [
    "# import helper libraries\n",
    "\n",
    "import numpy as np\n",
    "import pandas as pd\n",
    "import matplotlib.pyplot as plt\n",
    "\n",
    "from sklearn.preprocessing import OneHotEncoder\n",
    "from sklearn.model_selection import train_test_split"
   ]
  },
  {
   "cell_type": "code",
   "execution_count": 5,
   "id": "403eb4a5",
   "metadata": {},
   "outputs": [
    {
     "data": {
      "text/plain": [
       "array([[-1.55037225e-02, -9.23507447e-01, -4.64896751e-02, ...,\n",
       "        -1.91282758e-02, -1.05535639e-01, -2.11198305e-03],\n",
       "       [-1.55037225e-02,  8.88801104e-01, -4.64896751e-02, ...,\n",
       "        -1.91282758e-02, -1.05535639e-01, -2.11198305e-03],\n",
       "       [-1.55037225e-02,  6.92875855e-01, -4.64896751e-02, ...,\n",
       "        -1.91282758e-02, -1.05535639e-01, -2.11198305e-03],\n",
       "       ...,\n",
       "       [ 1.13714702e+00, -7.27582198e-01, -4.64896751e-02, ...,\n",
       "        -1.91282758e-02, -1.05535639e-01, -2.11198305e-03],\n",
       "       [ 2.28979776e+00, -1.26637663e+00, -4.64896751e-02, ...,\n",
       "        -1.91282758e-02, -1.05535639e-01, -2.11198305e-03],\n",
       "       [-1.16815446e+00,  1.23167029e+00, -4.64896751e-02, ...,\n",
       "        -1.91282758e-02, -1.05535639e-01, -2.11198305e-03]])"
      ]
     },
     "execution_count": 5,
     "metadata": {},
     "output_type": "execute_result"
    }
   ],
   "source": [
    "X_train = np.loadtxt('./X_train.txt', delimiter=',')\n",
    "X_test = np.loadtxt('./X_test.txt', delimiter=',')\n",
    "y_train = np.loadtxt('./y_train.txt', delimiter=',')\n",
    "y_test = np.loadtxt('./y_test.txt', delimiter=',')\n",
    "\n",
    "# Sanity check\n",
    "X_train"
   ]
  },
  {
   "cell_type": "code",
   "execution_count": null,
   "id": "4c256aba",
   "metadata": {},
   "outputs": [],
   "source": []
  }
 ],
 "metadata": {
  "kernelspec": {
   "display_name": "Python 3 (ipykernel)",
   "language": "python",
   "name": "python3"
  },
  "language_info": {
   "codemirror_mode": {
    "name": "ipython",
    "version": 3
   },
   "file_extension": ".py",
   "mimetype": "text/x-python",
   "name": "python",
   "nbconvert_exporter": "python",
   "pygments_lexer": "ipython3",
   "version": "3.9.13"
  }
 },
 "nbformat": 4,
 "nbformat_minor": 5
}
